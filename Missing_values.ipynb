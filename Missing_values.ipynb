{
 "cells": [
  {
   "cell_type": "markdown",
   "id": "409e9ad0-a24e-4157-9f7f-4b1b043681cd",
   "metadata": {},
   "source": [
    "##### 3 Techniques\n",
    "##### 1) Delete the record of missing values \n",
    "##### 2) Create a separate model to handle missing values\n",
    "##### 3) Statistical methods mean, median & mode "
   ]
  },
  {
   "cell_type": "code",
   "execution_count": 2,
   "id": "0eee3940-39cf-464f-9413-404c29b78221",
   "metadata": {},
   "outputs": [],
   "source": [
    "# 1) When u have a huge dataset - delete records\n",
    "# 2) create a separate model, which has missing values take as testing data set and other as training dataset\n",
    "# 3) Mean- Average , mode - Middle value between greatest and lowest number , median - most frequent value"
   ]
  },
  {
   "cell_type": "code",
   "execution_count": 3,
   "id": "277a2a98-d8fe-4e8e-99d6-6a77b8e71b88",
   "metadata": {},
   "outputs": [],
   "source": [
    "import pandas as pd"
   ]
  },
  {
   "cell_type": "code",
   "execution_count": 4,
   "id": "524f4cdb-a2cb-4de2-8c66-bb287e2dc006",
   "metadata": {},
   "outputs": [],
   "source": [
    "df=pd.read_csv('perfumesdata.csv')"
   ]
  },
  {
   "cell_type": "code",
   "execution_count": 5,
   "id": "93fdd684-d5c1-40cc-b7b8-83060af6cf26",
   "metadata": {},
   "outputs": [
    {
     "data": {
      "text/html": [
       "<div>\n",
       "<style scoped>\n",
       "    .dataframe tbody tr th:only-of-type {\n",
       "        vertical-align: middle;\n",
       "    }\n",
       "\n",
       "    .dataframe tbody tr th {\n",
       "        vertical-align: top;\n",
       "    }\n",
       "\n",
       "    .dataframe thead th {\n",
       "        text-align: right;\n",
       "    }\n",
       "</style>\n",
       "<table border=\"1\" class=\"dataframe\">\n",
       "  <thead>\n",
       "    <tr style=\"text-align: right;\">\n",
       "      <th></th>\n",
       "      <th>Unnamed: 0</th>\n",
       "      <th>product_link</th>\n",
       "      <th>extracted_link</th>\n",
       "      <th>info1</th>\n",
       "      <th>product_name</th>\n",
       "      <th>discounted_price</th>\n",
       "      <th>product_price</th>\n",
       "      <th>info2</th>\n",
       "      <th>product_description</th>\n",
       "      <th>store_name</th>\n",
       "      <th>extracted_date</th>\n",
       "      <th>product_category</th>\n",
       "      <th>gender</th>\n",
       "    </tr>\n",
       "  </thead>\n",
       "  <tbody>\n",
       "    <tr>\n",
       "      <th>0</th>\n",
       "      <td>0</td>\n",
       "      <td>https://saudi.ibrahimalqurashi.com/ar/%D8%A7%D...</td>\n",
       "      <td>https://cdn.salla.sa/rAoegy/9HX8xa8NpOsPRW3IpK...</td>\n",
       "      <td>50%</td>\n",
       "      <td>اريبيان توباكو 200 مل</td>\n",
       "      <td>220 ر.س</td>\n",
       "      <td>440 ر.س</td>\n",
       "      <td>إضافة للسلة</td>\n",
       "      <td>NaN</td>\n",
       "      <td>ابراهيم القرشي</td>\n",
       "      <td>2024-09-03</td>\n",
       "      <td>perfumes</td>\n",
       "      <td>NaN</td>\n",
       "    </tr>\n",
       "    <tr>\n",
       "      <th>1</th>\n",
       "      <td>1</td>\n",
       "      <td>https://saudi.ibrahimalqurashi.com/ar/%D8%A7%D...</td>\n",
       "      <td>https://cdn.salla.sa/rAoegy/zhOZ4Em75fC2uqBeSV...</td>\n",
       "      <td>50%</td>\n",
       "      <td>التوباكو الفرنسي 200 مل</td>\n",
       "      <td>199 ر.س</td>\n",
       "      <td>398 ر.س</td>\n",
       "      <td>إضافة للسلة</td>\n",
       "      <td>NaN</td>\n",
       "      <td>ابراهيم القرشي</td>\n",
       "      <td>2024-09-03</td>\n",
       "      <td>perfumes</td>\n",
       "      <td>NaN</td>\n",
       "    </tr>\n",
       "    <tr>\n",
       "      <th>2</th>\n",
       "      <td>2</td>\n",
       "      <td>https://saudi.ibrahimalqurashi.com/ar/%D8%B3%D...</td>\n",
       "      <td>https://cdn.salla.sa/rAoegy/a7361551-8afe-473b...</td>\n",
       "      <td>50%</td>\n",
       "      <td>سيترين عنبر</td>\n",
       "      <td>178 ر.س</td>\n",
       "      <td>356.01 ر.س</td>\n",
       "      <td>إضافة للسلة</td>\n",
       "      <td>NaN</td>\n",
       "      <td>ابراهيم القرشي</td>\n",
       "      <td>2024-09-03</td>\n",
       "      <td>perfumes</td>\n",
       "      <td>NaN</td>\n",
       "    </tr>\n",
       "    <tr>\n",
       "      <th>3</th>\n",
       "      <td>3</td>\n",
       "      <td>https://saudi.ibrahimalqurashi.com/ar/%D8%A7%D...</td>\n",
       "      <td>https://cdn.salla.sa/rAoegy/ymnLhLRPKJicMr9VAH...</td>\n",
       "      <td>50%</td>\n",
       "      <td>التوباكو الأسباني</td>\n",
       "      <td>210 ر.س</td>\n",
       "      <td>420 ر.س</td>\n",
       "      <td>إضافة للسلة</td>\n",
       "      <td>NaN</td>\n",
       "      <td>ابراهيم القرشي</td>\n",
       "      <td>2024-09-03</td>\n",
       "      <td>perfumes</td>\n",
       "      <td>NaN</td>\n",
       "    </tr>\n",
       "    <tr>\n",
       "      <th>4</th>\n",
       "      <td>4</td>\n",
       "      <td>https://saudi.ibrahimalqurashi.com/ar/%D8%AA%D...</td>\n",
       "      <td>https://cdn.salla.sa/rAoegy/d16747fe-dd04-418f...</td>\n",
       "      <td>50%</td>\n",
       "      <td>توق توباكو مبخر</td>\n",
       "      <td>138 ر.س</td>\n",
       "      <td>276 ر.س</td>\n",
       "      <td>إضافة للسلة</td>\n",
       "      <td>NaN</td>\n",
       "      <td>ابراهيم القرشي</td>\n",
       "      <td>2024-09-03</td>\n",
       "      <td>perfumes</td>\n",
       "      <td>NaN</td>\n",
       "    </tr>\n",
       "  </tbody>\n",
       "</table>\n",
       "</div>"
      ],
      "text/plain": [
       "   Unnamed: 0                                       product_link  \\\n",
       "0           0  https://saudi.ibrahimalqurashi.com/ar/%D8%A7%D...   \n",
       "1           1  https://saudi.ibrahimalqurashi.com/ar/%D8%A7%D...   \n",
       "2           2  https://saudi.ibrahimalqurashi.com/ar/%D8%B3%D...   \n",
       "3           3  https://saudi.ibrahimalqurashi.com/ar/%D8%A7%D...   \n",
       "4           4  https://saudi.ibrahimalqurashi.com/ar/%D8%AA%D...   \n",
       "\n",
       "                                      extracted_link info1  \\\n",
       "0  https://cdn.salla.sa/rAoegy/9HX8xa8NpOsPRW3IpK...   50%   \n",
       "1  https://cdn.salla.sa/rAoegy/zhOZ4Em75fC2uqBeSV...   50%   \n",
       "2  https://cdn.salla.sa/rAoegy/a7361551-8afe-473b...   50%   \n",
       "3  https://cdn.salla.sa/rAoegy/ymnLhLRPKJicMr9VAH...   50%   \n",
       "4  https://cdn.salla.sa/rAoegy/d16747fe-dd04-418f...   50%   \n",
       "\n",
       "              product_name discounted_price product_price        info2  \\\n",
       "0    اريبيان توباكو 200 مل          220 ر.س       440 ر.س  إضافة للسلة   \n",
       "1  التوباكو الفرنسي 200 مل          199 ر.س       398 ر.س  إضافة للسلة   \n",
       "2              سيترين عنبر          178 ر.س    356.01 ر.س  إضافة للسلة   \n",
       "3        التوباكو الأسباني          210 ر.س       420 ر.س  إضافة للسلة   \n",
       "4          توق توباكو مبخر          138 ر.س       276 ر.س  إضافة للسلة   \n",
       "\n",
       "  product_description      store_name extracted_date product_category gender  \n",
       "0                 NaN  ابراهيم القرشي     2024-09-03         perfumes    NaN  \n",
       "1                 NaN  ابراهيم القرشي     2024-09-03         perfumes    NaN  \n",
       "2                 NaN  ابراهيم القرشي     2024-09-03         perfumes    NaN  \n",
       "3                 NaN  ابراهيم القرشي     2024-09-03         perfumes    NaN  \n",
       "4                 NaN  ابراهيم القرشي     2024-09-03         perfumes    NaN  "
      ]
     },
     "execution_count": 5,
     "metadata": {},
     "output_type": "execute_result"
    }
   ],
   "source": [
    "df.head()"
   ]
  },
  {
   "cell_type": "code",
   "execution_count": 6,
   "id": "e967d542-0846-455a-ab7d-bd45661ff112",
   "metadata": {},
   "outputs": [
    {
     "data": {
      "text/plain": [
       "Unnamed: 0                 0\n",
       "product_link               0\n",
       "extracted_link          2311\n",
       "info1                  17782\n",
       "product_name               4\n",
       "discounted_price       18306\n",
       "product_price           6049\n",
       "info2                  10107\n",
       "product_description    13641\n",
       "store_name                 0\n",
       "extracted_date             0\n",
       "product_category           0\n",
       "gender                  5194\n",
       "dtype: int64"
      ]
     },
     "execution_count": 6,
     "metadata": {},
     "output_type": "execute_result"
    }
   ],
   "source": [
    "df.isnull().sum()"
   ]
  },
  {
   "cell_type": "markdown",
   "id": "b01834bc-c468-4759-95e6-43161ea398af",
   "metadata": {},
   "source": [
    "#### Exploratory Data Analysis"
   ]
  },
  {
   "cell_type": "code",
   "execution_count": 7,
   "id": "ecc234a1-2a04-4917-8dcd-245c6ef064c3",
   "metadata": {},
   "outputs": [],
   "source": [
    "import matplotlib.pyplot as plt\n",
    "import seaborn as sns"
   ]
  },
  {
   "cell_type": "code",
   "execution_count": 8,
   "id": "5d36fc77-d6e4-495d-9569-83875f7b74d6",
   "metadata": {},
   "outputs": [
    {
     "data": {
      "text/plain": [
       "<Axes: >"
      ]
     },
     "execution_count": 8,
     "metadata": {},
     "output_type": "execute_result"
    },
    {
     "data": {
      "image/png": "[encoded data removed]",
      "text/plain": [
       "<Figure size 640x480 with 1 Axes>"
      ]
     },
     "metadata": {},
     "output_type": "display_data"
    }
   ],
   "source": [
    "sns.heatmap(df.isnull(), yticklabels=False,cbar=False, cmap='viridis')"
   ]
  },
  {
   "cell_type": "code",
   "execution_count": 9,
   "id": "29c196e8-19b7-4e8d-b44f-697d94fd720e",
   "metadata": {},
   "outputs": [
    {
     "data": {
      "text/plain": [
       "<Axes: xlabel='gender', ylabel='count'>"
      ]
     },
     "execution_count": 9,
     "metadata": {},
     "output_type": "execute_result"
    },
    {
     "data": {
      "image/png": "[encoded data removed]",
      "text/plain": [
       "<Figure size 640x480 with 1 Axes>"
      ]
     },
     "metadata": {},
     "output_type": "display_data"
    }
   ],
   "source": [
    "sns.set_style('whitegrid')\n",
    "sns.countplot(x='gender', data = df)"
   ]
  },
  {
   "cell_type": "code",
   "execution_count": 14,
   "id": "351fbed8-222c-4af8-9359-5fb584ccccd7",
   "metadata": {},
   "outputs": [],
   "source": [
    "df_missing = df.dropna()"
   ]
  },
  {
   "cell_type": "code",
   "execution_count": 15,
   "id": "eed0176b-70bd-411d-b379-50d4b785b43e",
   "metadata": {},
   "outputs": [
    {
     "data": {
      "text/plain": [
       "Unnamed: 0             0\n",
       "product_link           0\n",
       "extracted_link         0\n",
       "info1                  0\n",
       "product_name           0\n",
       "discounted_price       0\n",
       "product_price          0\n",
       "info2                  0\n",
       "product_description    0\n",
       "store_name             0\n",
       "extracted_date         0\n",
       "product_category       0\n",
       "gender                 0\n",
       "dtype: int64"
      ]
     },
     "execution_count": 15,
     "metadata": {},
     "output_type": "execute_result"
    }
   ],
   "source": [
    "df_missing.isnull().sum()"
   ]
  },
  {
   "cell_type": "code",
   "execution_count": 16,
   "id": "093739bd-1a1b-44a5-add7-fd7e5568fd14",
   "metadata": {},
   "outputs": [
    {
     "data": {
      "text/html": [
       "<div>\n",
       "<style scoped>\n",
       "    .dataframe tbody tr th:only-of-type {\n",
       "        vertical-align: middle;\n",
       "    }\n",
       "\n",
       "    .dataframe tbody tr th {\n",
       "        vertical-align: top;\n",
       "    }\n",
       "\n",
       "    .dataframe thead th {\n",
       "        text-align: right;\n",
       "    }\n",
       "</style>\n",
       "<table border=\"1\" class=\"dataframe\">\n",
       "  <thead>\n",
       "    <tr style=\"text-align: right;\">\n",
       "      <th></th>\n",
       "      <th>Unnamed: 0</th>\n",
       "      <th>product_link</th>\n",
       "      <th>extracted_link</th>\n",
       "      <th>info1</th>\n",
       "      <th>product_name</th>\n",
       "      <th>discounted_price</th>\n",
       "      <th>product_price</th>\n",
       "      <th>info2</th>\n",
       "      <th>product_description</th>\n",
       "      <th>store_name</th>\n",
       "      <th>extracted_date</th>\n",
       "      <th>product_category</th>\n",
       "      <th>gender</th>\n",
       "    </tr>\n",
       "  </thead>\n",
       "  <tbody>\n",
       "    <tr>\n",
       "      <th>308</th>\n",
       "      <td>6</td>\n",
       "      <td>https://almajed4oud.com/ar-sa/hakem-classic-10...</td>\n",
       "      <td>https://almajed4oud.com/media/catalog/product/...</td>\n",
       "      <td>-42%</td>\n",
       "      <td>حاكم كلاسيك - 100 مل</td>\n",
       "      <td>94.00 ر.س</td>\n",
       "      <td>162.00 ر.س</td>\n",
       "      <td>أضف لسلة التسوق</td>\n",
       "      <td>وفّر 68 ر.س</td>\n",
       "      <td>الماجد للعود</td>\n",
       "      <td>2024-09-03</td>\n",
       "      <td>perfumes</td>\n",
       "      <td>male</td>\n",
       "    </tr>\n",
       "    <tr>\n",
       "      <th>309</th>\n",
       "      <td>7</td>\n",
       "      <td>https://almajed4oud.com/ar-sa/elbrince-classic...</td>\n",
       "      <td>https://almajed4oud.com/media/catalog/product/...</td>\n",
       "      <td>-46%</td>\n",
       "      <td>عطر البرنس كلاسيك - 100 مل</td>\n",
       "      <td>94.00 ر.س</td>\n",
       "      <td>174.00 ر.س</td>\n",
       "      <td>أضف لسلة التسوق</td>\n",
       "      <td>وفّر 80 ر.س</td>\n",
       "      <td>الماجد للعود</td>\n",
       "      <td>2024-09-03</td>\n",
       "      <td>perfumes</td>\n",
       "      <td>male</td>\n",
       "    </tr>\n",
       "    <tr>\n",
       "      <th>310</th>\n",
       "      <td>8</td>\n",
       "      <td>https://almajed4oud.com/ar-sa/raea-classic-per...</td>\n",
       "      <td>https://almajed4oud.com/media/catalog/product/...</td>\n",
       "      <td>-32%</td>\n",
       "      <td>عطر رائع كلاسيك - 100 مل</td>\n",
       "      <td>94.00 ر.س</td>\n",
       "      <td>138.00 ر.س</td>\n",
       "      <td>أضف لسلة التسوق</td>\n",
       "      <td>وفّر 44 ر.س</td>\n",
       "      <td>الماجد للعود</td>\n",
       "      <td>2024-09-03</td>\n",
       "      <td>perfumes</td>\n",
       "      <td>male</td>\n",
       "    </tr>\n",
       "    <tr>\n",
       "      <th>311</th>\n",
       "      <td>9</td>\n",
       "      <td>https://almajed4oud.com/ar-sa/roshan-classic-p...</td>\n",
       "      <td>https://almajed4oud.com/media/catalog/product/...</td>\n",
       "      <td>-46%</td>\n",
       "      <td>عطر روشان كلاسيك - 100 مل</td>\n",
       "      <td>94.00 ر.س</td>\n",
       "      <td>174.00 ر.س</td>\n",
       "      <td>أضف لسلة التسوق</td>\n",
       "      <td>وفّر 80 ر.س</td>\n",
       "      <td>الماجد للعود</td>\n",
       "      <td>2024-09-03</td>\n",
       "      <td>perfumes</td>\n",
       "      <td>male</td>\n",
       "    </tr>\n",
       "    <tr>\n",
       "      <th>312</th>\n",
       "      <td>10</td>\n",
       "      <td>https://almajed4oud.com/ar-sa/raed-style-perfu...</td>\n",
       "      <td>https://almajed4oud.com/media/catalog/product/...</td>\n",
       "      <td>-12%</td>\n",
       "      <td>عطر رائد ستايل - 100 مل</td>\n",
       "      <td>194.00 ر.س</td>\n",
       "      <td>220.00 ر.س</td>\n",
       "      <td>أضف لسلة التسوق</td>\n",
       "      <td>وفّر 26 ر.س</td>\n",
       "      <td>الماجد للعود</td>\n",
       "      <td>2024-09-03</td>\n",
       "      <td>perfumes</td>\n",
       "      <td>male</td>\n",
       "    </tr>\n",
       "    <tr>\n",
       "      <th>...</th>\n",
       "      <td>...</td>\n",
       "      <td>...</td>\n",
       "      <td>...</td>\n",
       "      <td>...</td>\n",
       "      <td>...</td>\n",
       "      <td>...</td>\n",
       "      <td>...</td>\n",
       "      <td>...</td>\n",
       "      <td>...</td>\n",
       "      <td>...</td>\n",
       "      <td>...</td>\n",
       "      <td>...</td>\n",
       "      <td>...</td>\n",
       "    </tr>\n",
       "    <tr>\n",
       "      <th>5696</th>\n",
       "      <td>1982</td>\n",
       "      <td>https://www.goldenscent.com/p/gucci-guilty-abs...</td>\n",
       "      <td>https://assets.goldenscent.com/catalog/product...</td>\n",
       "      <td>-17 %</td>\n",
       "      <td>قلتي ابسولوت بور فيم - 90 مل</td>\n",
       "      <td>645 ر.س</td>\n",
       "      <td>775 ر.س</td>\n",
       "      <td>أضف</td>\n",
       "      <td>قوتشي</td>\n",
       "      <td>جولدن سينت</td>\n",
       "      <td>2024-09-03</td>\n",
       "      <td>perfumes</td>\n",
       "      <td>female</td>\n",
       "    </tr>\n",
       "    <tr>\n",
       "      <th>5698</th>\n",
       "      <td>1984</td>\n",
       "      <td>https://www.goldenscent.com/p/gucci-bloom-50-m...</td>\n",
       "      <td>https://assets.goldenscent.com/catalog/product...</td>\n",
       "      <td>-32 %</td>\n",
       "      <td>بلوم - 50 مل</td>\n",
       "      <td>321 ر.س</td>\n",
       "      <td>472 ر.س</td>\n",
       "      <td>أضف</td>\n",
       "      <td>قوتشي</td>\n",
       "      <td>جولدن سينت</td>\n",
       "      <td>2024-09-03</td>\n",
       "      <td>perfumes</td>\n",
       "      <td>female</td>\n",
       "    </tr>\n",
       "    <tr>\n",
       "      <th>5705</th>\n",
       "      <td>1991</td>\n",
       "      <td>https://www.goldenscent.com/p/manoush-bohemian...</td>\n",
       "      <td>https://assets.goldenscent.com/catalog/product...</td>\n",
       "      <td>-18 %</td>\n",
       "      <td>بوهيميان صان أو دو تواليت</td>\n",
       "      <td>282 ر.س</td>\n",
       "      <td>344 ر.س</td>\n",
       "      <td>أضف</td>\n",
       "      <td>مانوش</td>\n",
       "      <td>جولدن سينت</td>\n",
       "      <td>2024-09-03</td>\n",
       "      <td>perfumes</td>\n",
       "      <td>female</td>\n",
       "    </tr>\n",
       "    <tr>\n",
       "      <th>5707</th>\n",
       "      <td>1993</td>\n",
       "      <td>https://www.goldenscent.com/p/manoush-bohemian...</td>\n",
       "      <td>https://assets.goldenscent.com/catalog/product...</td>\n",
       "      <td>-7 %</td>\n",
       "      <td>بوهيميان باتشولي أو دو تواليت</td>\n",
       "      <td>320 ر.س</td>\n",
       "      <td>344 ر.س</td>\n",
       "      <td>أضف</td>\n",
       "      <td>مانوش</td>\n",
       "      <td>جولدن سينت</td>\n",
       "      <td>2024-09-03</td>\n",
       "      <td>perfumes</td>\n",
       "      <td>female</td>\n",
       "    </tr>\n",
       "    <tr>\n",
       "      <th>5713</th>\n",
       "      <td>1999</td>\n",
       "      <td>https://www.goldenscent.com/p/dolce-gabbana-l-...</td>\n",
       "      <td>https://assets.goldenscent.com/catalog/product...</td>\n",
       "      <td>-14 %</td>\n",
       "      <td>ليمبيراتريس ليمتيد اديشن أو دو تواليت</td>\n",
       "      <td>301 ر.س</td>\n",
       "      <td>349 ر.س</td>\n",
       "      <td>حدد خياراً</td>\n",
       "      <td>دولتشي آند غابانا</td>\n",
       "      <td>جولدن سينت</td>\n",
       "      <td>2024-09-03</td>\n",
       "      <td>perfumes</td>\n",
       "      <td>female</td>\n",
       "    </tr>\n",
       "  </tbody>\n",
       "</table>\n",
       "<p>1134 rows × 13 columns</p>\n",
       "</div>"
      ],
      "text/plain": [
       "      Unnamed: 0                                       product_link  \\\n",
       "308            6  https://almajed4oud.com/ar-sa/hakem-classic-10...   \n",
       "309            7  https://almajed4oud.com/ar-sa/elbrince-classic...   \n",
       "310            8  https://almajed4oud.com/ar-sa/raea-classic-per...   \n",
       "311            9  https://almajed4oud.com/ar-sa/roshan-classic-p...   \n",
       "312           10  https://almajed4oud.com/ar-sa/raed-style-perfu...   \n",
       "...          ...                                                ...   \n",
       "5696        1982  https://www.goldenscent.com/p/gucci-guilty-abs...   \n",
       "5698        1984  https://www.goldenscent.com/p/gucci-bloom-50-m...   \n",
       "5705        1991  https://www.goldenscent.com/p/manoush-bohemian...   \n",
       "5707        1993  https://www.goldenscent.com/p/manoush-bohemian...   \n",
       "5713        1999  https://www.goldenscent.com/p/dolce-gabbana-l-...   \n",
       "\n",
       "                                         extracted_link  info1  \\\n",
       "308   https://almajed4oud.com/media/catalog/product/...   -42%   \n",
       "309   https://almajed4oud.com/media/catalog/product/...   -46%   \n",
       "310   https://almajed4oud.com/media/catalog/product/...   -32%   \n",
       "311   https://almajed4oud.com/media/catalog/product/...   -46%   \n",
       "312   https://almajed4oud.com/media/catalog/product/...   -12%   \n",
       "...                                                 ...    ...   \n",
       "5696  https://assets.goldenscent.com/catalog/product...  -17 %   \n",
       "5698  https://assets.goldenscent.com/catalog/product...  -32 %   \n",
       "5705  https://assets.goldenscent.com/catalog/product...  -18 %   \n",
       "5707  https://assets.goldenscent.com/catalog/product...   -7 %   \n",
       "5713  https://assets.goldenscent.com/catalog/product...  -14 %   \n",
       "\n",
       "                               product_name discounted_price product_price  \\\n",
       "308                    حاكم كلاسيك - 100 مل        94.00 ر.س    162.00 ر.س   \n",
       "309              عطر البرنس كلاسيك - 100 مل        94.00 ر.س    174.00 ر.س   \n",
       "310                عطر رائع كلاسيك - 100 مل        94.00 ر.س    138.00 ر.س   \n",
       "311               عطر روشان كلاسيك - 100 مل        94.00 ر.س    174.00 ر.س   \n",
       "312                 عطر رائد ستايل - 100 مل       194.00 ر.س    220.00 ر.س   \n",
       "...                                     ...              ...           ...   \n",
       "5696           قلتي ابسولوت بور فيم - 90 مل          645 ر.س       775 ر.س   \n",
       "5698                           بلوم - 50 مل          321 ر.س       472 ر.س   \n",
       "5705              بوهيميان صان أو دو تواليت          282 ر.س       344 ر.س   \n",
       "5707          بوهيميان باتشولي أو دو تواليت          320 ر.س       344 ر.س   \n",
       "5713  ليمبيراتريس ليمتيد اديشن أو دو تواليت          301 ر.س       349 ر.س   \n",
       "\n",
       "                info2 product_description    store_name extracted_date  \\\n",
       "308   أضف لسلة التسوق         وفّر 68 ر.س  الماجد للعود     2024-09-03   \n",
       "309   أضف لسلة التسوق         وفّر 80 ر.س  الماجد للعود     2024-09-03   \n",
       "310   أضف لسلة التسوق         وفّر 44 ر.س  الماجد للعود     2024-09-03   \n",
       "311   أضف لسلة التسوق         وفّر 80 ر.س  الماجد للعود     2024-09-03   \n",
       "312   أضف لسلة التسوق         وفّر 26 ر.س  الماجد للعود     2024-09-03   \n",
       "...               ...                 ...           ...            ...   \n",
       "5696              أضف               قوتشي    جولدن سينت     2024-09-03   \n",
       "5698              أضف               قوتشي    جولدن سينت     2024-09-03   \n",
       "5705              أضف               مانوش    جولدن سينت     2024-09-03   \n",
       "5707              أضف               مانوش    جولدن سينت     2024-09-03   \n",
       "5713       حدد خياراً   دولتشي آند غابانا    جولدن سينت     2024-09-03   \n",
       "\n",
       "     product_category  gender  \n",
       "308          perfumes    male  \n",
       "309          perfumes    male  \n",
       "310          perfumes    male  \n",
       "311          perfumes    male  \n",
       "312          perfumes    male  \n",
       "...               ...     ...  \n",
       "5696         perfumes  female  \n",
       "5698         perfumes  female  \n",
       "5705         perfumes  female  \n",
       "5707         perfumes  female  \n",
       "5713         perfumes  female  \n",
       "\n",
       "[1134 rows x 13 columns]"
      ]
     },
     "execution_count": 16,
     "metadata": {},
     "output_type": "execute_result"
    }
   ],
   "source": [
    "df_missing"
   ]
  },
  {
   "cell_type": "code",
   "execution_count": 18,
   "id": "e5107e67-fc6d-4280-a0f9-a8ff66d9603e",
   "metadata": {},
   "outputs": [
    {
     "data": {
      "text/plain": [
       "<Axes: >"
      ]
     },
     "execution_count": 18,
     "metadata": {},
     "output_type": "execute_result"
    },
    {
     "data": {
      "image/png": "[encoded data removed]",
      "text/plain": [
       "<Figure size 640x480 with 1 Axes>"
      ]
     },
     "metadata": {},
     "output_type": "display_data"
    }
   ],
   "source": [
    "sns.heatmap(df_missing.isnull(), yticklabels=False,cbar=False, cmap='viridis')"
   ]
  },
  {
   "cell_type": "code",
   "execution_count": null,
   "id": "9cf45ade-1abe-48df-b72d-61b686ca56b3",
   "metadata": {},
   "outputs": [],
   "source": []
  }
 ],
 "metadata": {
  "kernelspec": {
   "display_name": "Python 3 (ipykernel)",
   "language": "python",
   "name": "python3"
  },
  "language_info": {
   "codemirror_mode": {
    "name": "ipython",
    "version": 3
   },
   "file_extension": ".py",
   "mimetype": "text/x-python",
   "name": "python",
   "nbconvert_exporter": "python",
   "pygments_lexer": "ipython3",
   "version": "3.11.7"
  }
 },
 "nbformat": 4,
 "nbformat_minor": 5
}
